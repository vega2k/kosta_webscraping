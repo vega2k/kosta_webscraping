{
 "cells": [
  {
   "cell_type": "markdown",
   "metadata": {},
   "source": [
    "#### 1. Library import"
   ]
  },
  {
   "cell_type": "code",
   "execution_count": 3,
   "metadata": {},
   "outputs": [],
   "source": [
    "import requests\n",
    "from bs4 import BeautifulSoup\n",
    "from urllib.parse import urljoin"
   ]
  },
  {
   "cell_type": "code",
   "execution_count": 24,
   "metadata": {},
   "outputs": [
    {
     "ename": "SyntaxError",
     "evalue": "invalid syntax (<ipython-input-24-069533df6ae3>, line 16)",
     "output_type": "error",
     "traceback": [
      "\u001b[1;36m  File \u001b[1;32m\"<ipython-input-24-069533df6ae3>\"\u001b[1;36m, line \u001b[1;32m16\u001b[0m\n\u001b[1;33m    print(f'div tag 갯수 : {len(soup.select('div'))}')\u001b[0m\n\u001b[1;37m                                           ^\u001b[0m\n\u001b[1;31mSyntaxError\u001b[0m\u001b[1;31m:\u001b[0m invalid syntax\n"
     ]
    }
   ],
   "source": [
    "url = 'https://news.naver.com/'\n",
    "# 요청헤더 \n",
    "req_header = {\n",
    "    'user-agent':'Mozilla/5.0 (Windows NT 10.0; Win64; x64) AppleWebKit/537.36 (KHTML, like Gecko) Chrome/90.0.4430.93 Safari/537.36'\n",
    "}\n",
    "# get() 요청 보내기\n",
    "res =requests.get(url, headers=req_header)\n",
    "print('응답코드 {}'.format(res.status_code))\n",
    "\n",
    "if res.ok:\n",
    "    # response 객체에서 텍스트 추출\n",
    "    html = res.text\n",
    "    # 추출한 텍스트를 파싱하기 위해서 BeautifulSoup 객체생성\n",
    "    soup = BeautifulSoup(html, 'html.parser')\n",
    "    #print(soup)\n",
    "    print(f\"div tag 갯수 : {len(soup.select('div'))}\")\n",
    "    atag_list = soup.select(\"a[href*='read.nhn']\")\n",
    "    #print(atag_list[0:2], len(atag_list))\n",
    "    for idx, atag in enumerate(atag_list, 1):\n",
    "        title = atag.text.strip()\n",
    "        link = urljoin(url, atag['href'])\n",
    "        print(idx, title, link)"
   ]
  }
 ],
 "metadata": {
  "kernelspec": {
   "display_name": "Python 3",
   "language": "python",
   "name": "python3"
  },
  "language_info": {
   "codemirror_mode": {
    "name": "ipython",
    "version": 3
   },
   "file_extension": ".py",
   "mimetype": "text/x-python",
   "name": "python",
   "nbconvert_exporter": "python",
   "pygments_lexer": "ipython3",
   "version": "3.8.5"
  }
 },
 "nbformat": 4,
 "nbformat_minor": 4
}
