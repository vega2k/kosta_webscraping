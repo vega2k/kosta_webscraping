{
 "cells": [
  {
   "cell_type": "code",
   "execution_count": 10,
   "metadata": {},
   "outputs": [
    {
     "name": "stdout",
     "output_type": "stream",
     "text": [
      "200\n",
      "300\n",
      "300\n"
     ]
    },
    {
     "data": {
      "text/plain": [
       "['9771230', '9771142', '9771174']"
      ]
     },
     "execution_count": 10,
     "metadata": {},
     "output_type": "execute_result"
    }
   ],
   "source": [
    "import requests\n",
    "from bs4 import BeautifulSoup\n",
    "import re\n",
    "\n",
    "url = 'https://www.assembly.go.kr/assm/memact/congressman/memCond/memCondListAjax.do'\n",
    "req_param = {\n",
    "    \"currentPage\":1,\n",
    "    \"rowPerPage\":500\n",
    "}\n",
    "\n",
    "res = requests.get(url, params=req_param)\n",
    "print(res.status_code)\n",
    "if res.ok:\n",
    "    html = res.text\n",
    "    soup = BeautifulSoup(html,'html.parser')\n",
    "    \n",
    "    print(len(soup.select('div.memberna_list dl dt a')))\n",
    "    member_list = []\n",
    "    for atag in soup.select('div.memberna_list dl dt a'):\n",
    "        href_value = atag['href']\n",
    "        name = atag.text\n",
    "        matched = re.search(r'(\\d+)', href_value)\n",
    "        member_id = matched.group(0)\n",
    "        member_list.append(member_id)\n",
    "\n",
    "print(len(member_list))        \n",
    "member_list[0:3]"
   ]
  }
 ],
 "metadata": {
  "kernelspec": {
   "display_name": "Python 3",
   "language": "python",
   "name": "python3"
  },
  "language_info": {
   "codemirror_mode": {
    "name": "ipython",
    "version": 3
   },
   "file_extension": ".py",
   "mimetype": "text/x-python",
   "name": "python",
   "nbconvert_exporter": "python",
   "pygments_lexer": "ipython3",
   "version": "3.8.5"
  }
 },
 "nbformat": 4,
 "nbformat_minor": 4
}
