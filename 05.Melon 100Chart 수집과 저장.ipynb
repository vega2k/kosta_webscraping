{
 "cells": [
  {
   "cell_type": "markdown",
   "metadata": {},
   "source": [
    "### Melon 100 챠트 스크래핑\n",
    "1. 100곡의 노래의 제목과 ID 추출 (정규표현식)\n",
    "2. 노래의 ID로 상세페이지를 100번 요청해서 상세정보를 추출\n",
    "3. Json file에 저장\n",
    "4. json file을 DataFrame 객체로 생성해서 표데이터 만들기\n",
    "5. 표데이터를 DB에 저장하기"
   ]
  },
  {
   "cell_type": "code",
   "execution_count": 22,
   "metadata": {},
   "outputs": [
    {
     "name": "stdout",
     "output_type": "stream",
     "text": [
      "200\n",
      "1\n",
      "101\n",
      "200\n",
      "100\n",
      "100\n"
     ]
    },
    {
     "data": {
      "text/plain": [
       "[{'title': \"롤린 (Rollin')\",\n",
       "  'link': 'https://www.melon.com/song/detail.htm?songId=30287019'},\n",
       " {'title': '라일락',\n",
       "  'link': 'https://www.melon.com/song/detail.htm?songId=33372781'},\n",
       " {'title': 'Peaches (Feat. Daniel Caesar & Giveon)',\n",
       "  'link': 'https://www.melon.com/song/detail.htm?songId=33359317'},\n",
       " {'title': 'Celebrity',\n",
       "  'link': 'https://www.melon.com/song/detail.htm?songId=33239419'},\n",
       " {'title': '운전만해 (We Ride)',\n",
       "  'link': 'https://www.melon.com/song/detail.htm?songId=32860397'}]"
      ]
     },
     "execution_count": 22,
     "metadata": {},
     "output_type": "execute_result"
    }
   ],
   "source": [
    "import requests\n",
    "from bs4 import BeautifulSoup\n",
    "import re\n",
    "\n",
    "url = 'https://www.melon.com/chart/index.htm'\n",
    "# 요청헤더 \n",
    "req_header = {\n",
    "    'user-agent':'Mozilla/5.0 (Windows NT 10.0; Win64; x64) AppleWebKit/537.36 (KHTML, like Gecko) Chrome/90.0.4430.93 Safari/537.36'\n",
    "}\n",
    "res = requests.get(url, headers=req_header)\n",
    "print(res.status_code)\n",
    "\n",
    "if res.ok:\n",
    "    html = res.text\n",
    "    soup = BeautifulSoup(html, 'html.parser')\n",
    "    # <div id=\"tb_list\"> \n",
    "    print(len(soup.select('div#tb_list'))) #1\n",
    "    # <div id=\"tb_list\">  하위의 tr 선택\n",
    "    print(len(soup.select('div#tb_list tr'))) #101\n",
    "    # <div id=\"tb_list\">  하위의 tr 하위의 <div class=\"wrap_song_info\">\n",
    "    print(len(soup.select('div#tb_list tr div.wrap_song_info'))) #200\n",
    "    # <div id=\"tb_list\">  하위의 tr 하위의 <div class=\"wrap_song_info\"> 하위의 <a href=\"playSong\">\n",
    "    print(len(soup.select(\"div#tb_list tr div.wrap_song_info a[href*='playSong']\"))) #100\n",
    "    \n",
    "    song_atag = soup.select(\"div#tb_list tr div.wrap_song_info a[href*='playSong']\")\n",
    "    # 100개의 song정보를 저장할 리스트 선언\n",
    "    song_list = []\n",
    "    for song in song_atag:\n",
    "        # 1개의 song 정보를 저장한 딕셔너리 선언\n",
    "        song_dict = {}\n",
    "        title = song.text\n",
    "        href_value = song['href']\n",
    "        matched = re.search(r'(\\d+)\\);', href_value)\n",
    "        #print(matched.group(0), matched.group(1))\n",
    "        song_id = matched.group(1)\n",
    "        song_detail_link = f'https://www.melon.com/song/detail.htm?songId={song_id}'\n",
    "        song_dict['title'] = title\n",
    "        song_dict['link'] = song_detail_link\n",
    "        song_list.append(song_dict)\n",
    "\n",
    "print(len(song_list))\n",
    "song_list[0:5]"
   ]
  },
  {
   "cell_type": "code",
   "execution_count": 23,
   "metadata": {},
   "outputs": [
    {
     "name": "stdout",
     "output_type": "stream",
     "text": [
      "1 https://www.melon.com/song/detail.htm?songId=30287019\n",
      "2 https://www.melon.com/song/detail.htm?songId=33372781\n",
      "3 https://www.melon.com/song/detail.htm?songId=33359317\n",
      "4 https://www.melon.com/song/detail.htm?songId=33239419\n",
      "5 https://www.melon.com/song/detail.htm?songId=32860397\n",
      "6 https://www.melon.com/song/detail.htm?songId=1944399\n",
      "7 https://www.melon.com/song/detail.htm?songId=1854856\n",
      "8 https://www.melon.com/song/detail.htm?songId=1500196\n",
      "9 https://www.melon.com/song/detail.htm?songId=33372783\n",
      "10 https://www.melon.com/song/detail.htm?songId=3414749\n",
      "11 https://www.melon.com/song/detail.htm?songId=32872978\n",
      "12 https://www.melon.com/song/detail.htm?songId=33346446\n",
      "13 https://www.melon.com/song/detail.htm?songId=33331004\n",
      "14 https://www.melon.com/song/detail.htm?songId=33167063\n",
      "15 https://www.melon.com/song/detail.htm?songId=33061995\n",
      "16 https://www.melon.com/song/detail.htm?songId=33405149\n",
      "17 https://www.melon.com/song/detail.htm?songId=711626\n",
      "18 https://www.melon.com/song/detail.htm?songId=33013877\n",
      "19 https://www.melon.com/song/detail.htm?songId=32183386\n",
      "20 https://www.melon.com/song/detail.htm?songId=32578498\n",
      "21 https://www.melon.com/song/detail.htm?songId=32794652\n",
      "22 https://www.melon.com/song/detail.htm?songId=33077590\n",
      "23 https://www.melon.com/song/detail.htm?songId=33372788\n",
      "24 https://www.melon.com/song/detail.htm?songId=32961718\n",
      "25 https://www.melon.com/song/detail.htm?songId=33011180\n",
      "26 https://www.melon.com/song/detail.htm?songId=33315511\n",
      "27 https://www.melon.com/song/detail.htm?songId=32003395\n",
      "28 https://www.melon.com/song/detail.htm?songId=33439096\n",
      "29 https://www.melon.com/song/detail.htm?songId=33229299\n",
      "30 https://www.melon.com/song/detail.htm?songId=33372784\n",
      "31 https://www.melon.com/song/detail.htm?songId=31509376\n",
      "32 https://www.melon.com/song/detail.htm?songId=33107649\n",
      "33 https://www.melon.com/song/detail.htm?songId=32061975\n",
      "34 https://www.melon.com/song/detail.htm?songId=33248758\n",
      "35 https://www.melon.com/song/detail.htm?songId=3894276\n",
      "36 https://www.melon.com/song/detail.htm?songId=32962258\n",
      "37 https://www.melon.com/song/detail.htm?songId=33430095\n",
      "38 https://www.melon.com/song/detail.htm?songId=33372787\n",
      "39 https://www.melon.com/song/detail.htm?songId=32224272\n",
      "40 https://www.melon.com/song/detail.htm?songId=32998018\n",
      "41 https://www.melon.com/song/detail.htm?songId=32559782\n",
      "42 https://www.melon.com/song/detail.htm?songId=31029291\n",
      "43 https://www.melon.com/song/detail.htm?songId=33372782\n",
      "44 https://www.melon.com/song/detail.htm?songId=30962526\n",
      "45 https://www.melon.com/song/detail.htm?songId=32525311\n",
      "46 https://www.melon.com/song/detail.htm?songId=33359725\n",
      "47 https://www.melon.com/song/detail.htm?songId=32491274\n",
      "48 https://www.melon.com/song/detail.htm?songId=30244931\n",
      "49 https://www.melon.com/song/detail.htm?songId=32438894\n",
      "50 https://www.melon.com/song/detail.htm?songId=33077234\n",
      "51 https://www.melon.com/song/detail.htm?songId=32224166\n",
      "52 https://www.melon.com/song/detail.htm?songId=31853557\n",
      "53 https://www.melon.com/song/detail.htm?songId=31737197\n",
      "54 https://www.melon.com/song/detail.htm?songId=32156286\n",
      "55 https://www.melon.com/song/detail.htm?songId=32720013\n",
      "56 https://www.melon.com/song/detail.htm?songId=33372785\n",
      "57 https://www.melon.com/song/detail.htm?songId=711627\n",
      "58 https://www.melon.com/song/detail.htm?songId=33260801\n",
      "59 https://www.melon.com/song/detail.htm?songId=32055419\n",
      "60 https://www.melon.com/song/detail.htm?songId=32378104\n",
      "61 https://www.melon.com/song/detail.htm?songId=32871975\n",
      "62 https://www.melon.com/song/detail.htm?songId=32559781\n",
      "63 https://www.melon.com/song/detail.htm?songId=33295747\n",
      "64 https://www.melon.com/song/detail.htm?songId=32508053\n",
      "65 https://www.melon.com/song/detail.htm?songId=33347390\n",
      "66 https://www.melon.com/song/detail.htm?songId=31979846\n",
      "67 https://www.melon.com/song/detail.htm?songId=32143487\n",
      "68 https://www.melon.com/song/detail.htm?songId=33346447\n",
      "69 https://www.melon.com/song/detail.htm?songId=32853712\n",
      "70 https://www.melon.com/song/detail.htm?songId=1615770\n",
      "71 https://www.melon.com/song/detail.htm?songId=33338016\n",
      "72 https://www.melon.com/song/detail.htm?songId=33397561\n",
      "73 https://www.melon.com/song/detail.htm?songId=31388145\n",
      "74 https://www.melon.com/song/detail.htm?songId=33372789\n",
      "75 https://www.melon.com/song/detail.htm?songId=33104090\n",
      "76 https://www.melon.com/song/detail.htm?songId=32345931\n",
      "77 https://www.melon.com/song/detail.htm?songId=33115807\n",
      "78 https://www.melon.com/song/detail.htm?songId=33164083\n",
      "79 https://www.melon.com/song/detail.htm?songId=32187544\n",
      "80 https://www.melon.com/song/detail.htm?songId=31341518\n",
      "81 https://www.melon.com/song/detail.htm?songId=32570501\n",
      "82 https://www.melon.com/song/detail.htm?songId=32137576\n",
      "83 https://www.melon.com/song/detail.htm?songId=32777869\n",
      "84 https://www.melon.com/song/detail.htm?songId=31984204\n",
      "85 https://www.melon.com/song/detail.htm?songId=30773554\n",
      "86 https://www.melon.com/song/detail.htm?songId=33347594\n",
      "87 https://www.melon.com/song/detail.htm?songId=33244575\n",
      "88 https://www.melon.com/song/detail.htm?songId=33247490\n",
      "89 https://www.melon.com/song/detail.htm?songId=32122539\n",
      "90 https://www.melon.com/song/detail.htm?songId=33001672\n",
      "91 https://www.melon.com/song/detail.htm?songId=33388275\n",
      "92 https://www.melon.com/song/detail.htm?songId=32725013\n",
      "93 https://www.melon.com/song/detail.htm?songId=32651098\n",
      "94 https://www.melon.com/song/detail.htm?songId=33269643\n",
      "95 https://www.melon.com/song/detail.htm?songId=33305996\n",
      "96 https://www.melon.com/song/detail.htm?songId=33372786\n",
      "97 https://www.melon.com/song/detail.htm?songId=33120545\n",
      "98 https://www.melon.com/song/detail.htm?songId=33265859\n",
      "99 https://www.melon.com/song/detail.htm?songId=33353705\n",
      "100 https://www.melon.com/song/detail.htm?songId=33309138\n",
      "100\n"
     ]
    }
   ],
   "source": [
    "import requests\n",
    "from bs4 import BeautifulSoup\n",
    "import re\n",
    "\n",
    "# 요청헤더 \n",
    "req_header = {\n",
    "    'user-agent':'Mozilla/5.0 (Windows NT 10.0; Win64; x64) AppleWebKit/537.36 (KHTML, like Gecko) Chrome/90.0.4430.93 Safari/537.36'\n",
    "}\n",
    "song_lyric_lists = []\n",
    "song_lyric_dict = {}\n",
    "\n",
    "for idx,song in enumerate(song_list,1):\n",
    "    html = requests.get(song['link'], headers=req_header).text\n",
    "    soup = BeautifulSoup(html,'html.parser')\n",
    "    song_lyric_dict['곡명'] = song['title']\n",
    "    song_lyric_dict['가수'] = soup.select('a[href*=\".goArtistDetail\"] span')[0].text\n",
    "    song_lyric_dict['발매일'] = soup.select('div.meta dd')[1].text\n",
    "    song_lyric_dict['장르'] = soup.select('div.meta dd')[2].text\n",
    "    print(idx, song['link'])\n",
    "#    print(soup.select('div#d_video_summary')[0].text)\n",
    "    if(soup.select('div#d_video_summary')):\n",
    "        lyric = soup.select('div#d_video_summary')[0].text\n",
    "    else:\n",
    "        lyric = ''\n",
    "    regex = re.compile(r'[\\n\\r\\t]')\n",
    "    song_lyric_dict['가사'] = regex.sub('', lyric.strip())\n",
    "    song_lyric_lists.append(song_lyric_dict)\n",
    "    song_lyric_dict = {}\n",
    "\n",
    "print(len(song_lyric_lists)) "
   ]
  },
  {
   "cell_type": "code",
   "execution_count": 25,
   "metadata": {},
   "outputs": [
    {
     "data": {
      "text/plain": [
       "[{'곡명': \"롤린 (Rollin')\",\n",
       "  '가수': '브레이브걸스',\n",
       "  '발매일': '2017.03.07',\n",
       "  '장르': '댄스',\n",
       "  '가사': \"그 날을 잊지 못해 babe날 보며 환히 웃던 너의 미소에홀린 듯 I'm fall in loveBut 너무 쪽팔림에 난 그저한마디 말도 못해 babe I wanna you 너의 눈빛은 날 자꾸 네 곁을 맴돌게 해Just only you 굳게 닫힌 내 맘이 어느새 무너져버려 Because of you온통 너의 생각뿐이야 나도 미치겠어너무 보고 싶어 매일 매일 매일자꾸 초라해지잖아 내 모습이그대여 내게 말해줘 사랑한다고Rollin' Rollin' Rollin' Rollin' Rollin' Rollin' Rollin' Rollin' Rollin' Rollin' Rollin' Rollin' 하루가 멀다 하고 Rolling in the deep Rollin' Rollin' Rollin' Rollin' Rollin' Rollin' Rollin' Rollin' 기다리고 있잖아 Babe Just only you기다리고 있잖아 Babe Just only youHey I just wanna be with you오늘 밤이 가기 전에I can't feel you 조금 더 다가와 줘 Tonight I'm ready for youYou wanna touch me I know대체 뭘 고민해 빨리 안아아닌 척 모르는 척 하다가늦게 놓치고 후회 말아I wanna you 너의 눈빛은 날 자꾸 네 곁을 맴돌게 해Just only you 굳게 닫힌 내 맘이 어느새 무너져버려 Because of you온통 너의 생각뿐이야 나도 미치겠어너무 보고 싶어 매일 매일 매일자꾸 초라해지잖아 내 모습이그대여 내게 말해줘 사랑한다고Rollin' Rollin' Rollin' Rollin' Rollin' Rollin' Rollin' Rollin' Rollin' Rollin' Rollin' Rollin' 하루가 멀다 하고 Rolling in the deep Rollin' Rollin' Rollin' Rollin' Rollin' Rollin' Rollin' Rollin' 기다리고 있잖아 Babe Just only you이제 와 숨기려 하지 마요그대여 아닌 척하지 마요온종일 난 그대 생각에 잠긴 채로난 이대로 기다리고 있어요Rollin' Rollin' Rollin' Rollin' Rollin' Rollin' Rollin' Rollin' Rollin' Rollin' Rollin' Rollin' 하루가 멀다 하고 Rolling in the deep Rollin' Rollin' Rollin' Rollin' Rollin' Rollin' Rollin' Rollin' 기다리고 있잖아 Babe Just only you기다리고 있잖아 Babe Just only you\"},\n",
       " {'곡명': '라일락',\n",
       "  '가수': '아이유',\n",
       "  '발매일': '2021.03.25',\n",
       "  '장르': '댄스',\n",
       "  '가사': '나리는 꽃가루에 눈이 따끔해 (아야)눈물이 고여도 꾹 참을래내 마음 한켠 비밀스런 오르골에 넣어두고서영원히 되감을 순간이니까 우리 둘의 마지막 페이지를 잘 부탁해어느 작별이 이보다 완벽할까Love me only till this spring오 라일락 꽃이 지는 날 good bye이런 결말이 어울려 안녕 꽃잎 같은 안녕하이얀 우리 봄날의 climax아 얼마나 기쁜 일이야Ooh ooh Love me only till this spring봄바람처럼Ooh ooh Love me only till this spring봄바람처럼기분이 달아 콧노래 부르네 (랄라)입꼬리는 살짝 올린 채어쩜 이렇게 하늘은 더 바람은 또 완벽한 건지오늘따라 내 모습 맘에 들어처음 만난 그날처럼 예쁘다고 말해줄래어느 이별이 이토록 달콤할까Love resembles misty dream오 라일락 꽃이 지는 날 good bye이런 결말이 어울려안녕 꽃잎 같은 안녕하이얀 우리 봄날의 climax아 얼마나 기쁜 일이야Ooh ooh Love resembles misty dream뜬구름처럼Ooh ooh Love resembles misty dream뜬구름처럼너도 언젠가 날 잊게 될까지금 표정과 오늘의 향기도단잠 사이에 스쳐간봄날의 꿈처럼오 라일락 꽃이 지는 날 good bye너의 대답이 날 울려안녕 약속 같은 안녕하이얀 우리 봄날에 climax아 얼마나 기쁜 일이야Ooh ooh Love me only untill this spring봄바람처럼Ooh ooh Love me only untill this spring봄바람처럼Ooh ooh Love resembles misty dream뜬구름처럼Ooh ooh Love resembles misty dream뜬구름처럼'}]"
      ]
     },
     "execution_count": 25,
     "metadata": {},
     "output_type": "execute_result"
    }
   ],
   "source": [
    "song_lyric_lists[0:2]"
   ]
  },
  {
   "cell_type": "code",
   "execution_count": 27,
   "metadata": {},
   "outputs": [],
   "source": [
    "import json\n",
    "\n",
    "with open('data/songs.json','w', encoding='utf-8') as file:\n",
    "    json.dump(song_lyric_lists, file)"
   ]
  },
  {
   "cell_type": "code",
   "execution_count": 28,
   "metadata": {},
   "outputs": [],
   "source": [
    "import pandas as pd\n",
    "\n",
    "song_df = pd.read"
   ]
  }
 ],
 "metadata": {
  "kernelspec": {
   "display_name": "Python 3",
   "language": "python",
   "name": "python3"
  },
  "language_info": {
   "codemirror_mode": {
    "name": "ipython",
    "version": 3
   },
   "file_extension": ".py",
   "mimetype": "text/x-python",
   "name": "python",
   "nbconvert_exporter": "python",
   "pygments_lexer": "ipython3",
   "version": "3.8.5"
  }
 },
 "nbformat": 4,
 "nbformat_minor": 4
}
