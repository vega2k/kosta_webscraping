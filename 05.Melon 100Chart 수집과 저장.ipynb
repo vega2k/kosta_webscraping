{
 "cells": [
  {
   "cell_type": "markdown",
   "metadata": {},
   "source": [
    "### Melon 100 챠트 스크래핑\n",
    "1. 100곡의 노래의 제목과 ID 추출 (정규표현식)\n",
    "2. 노래의 ID로 상세페이지를 100번 요청해서 상세정보를 추출\n",
    "3. Json file에 저장\n",
    "4. json file을 DataFrame 객체로 생성해서 표데이터 만들기\n",
    "5. 표데이터를 DB에 저장하기"
   ]
  },
  {
   "cell_type": "code",
   "execution_count": 13,
   "metadata": {},
   "outputs": [
    {
     "name": "stdout",
     "output_type": "stream",
     "text": [
      "200\n",
      "1\n",
      "101\n",
      "200\n",
      "100\n",
      "[<a href=\"javascript:melon.play.playSong('19030101',30287019);\" title=\"롤린 (Rollin') 재생\">롤린 (Rollin')</a>, <a href=\"javascript:melon.play.playSong('19030101',33372781);\" title=\"라일락 재생\">라일락</a>, <a href=\"javascript:melon.play.playSong('19030101',33359317);\" title=\"Peaches (Feat. Daniel Caesar &amp; Giveon) 재생\">Peaches (Feat. Daniel Caesar &amp; Giveon)</a>, <a href=\"javascript:melon.play.playSong('19030101',33239419);\" title=\"Celebrity 재생\">Celebrity</a>, <a href=\"javascript:melon.play.playSong('19030101',32860397);\" title=\"운전만해 (We Ride) 재생\">운전만해 (We Ride)</a>, <a href=\"javascript:melon.play.playSong('19030101',1944399);\" title=\"Timeless 재생\">Timeless</a>, <a href=\"javascript:melon.play.playSong('19030101',1854856);\" title=\"라라라 재생\">라라라</a>, <a href=\"javascript:melon.play.playSong('19030101',1500196);\" title=\"내사람 재생\">내사람</a>, <a href=\"javascript:melon.play.playSong('19030101',33372783);\" title=\"Coin 재생\">Coin</a>, <a href=\"javascript:melon.play.playSong('19030101',3414749);\" title=\"내 손을 잡아 재생\">내 손을 잡아</a>, <a href=\"javascript:melon.play.playSong('19030101',32872978);\" title=\"Dynamite 재생\">Dynamite</a>, <a href=\"javascript:melon.play.playSong('19030101',33346446);\" title=\"On The Ground 재생\">On The Ground</a>, <a href=\"javascript:melon.play.playSong('19030101',33331004);\" title=\"LOVE DAY (2021) (바른연애 길잡이 X 양요섭, 정은지) 재생\">LOVE DAY (2021) (바른연애 길잡이 X 양요섭, 정은지)</a>, <a href=\"javascript:melon.play.playSong('19030101',33167063);\" title=\"밝게 빛나는 별이 되어 비춰줄게 재생\">밝게 빛나는 별이 되어 비춰줄게</a>, <a href=\"javascript:melon.play.playSong('19030101',33061995);\" title=\"밤하늘의 별을(2020) 재생\">밤하늘의 별을(2020)</a>, <a href=\"javascript:melon.play.playSong('19030101',33405149);\" title=\"그냥 안아달란 말야 재생\">그냥 안아달란 말야</a>, <a href=\"javascript:melon.play.playSong('19030101',711626);\" title=\"살다가 재생\">살다가</a>, <a href=\"javascript:melon.play.playSong('19030101',33013877);\" title=\"잠이 오질 않네요 재생\">잠이 오질 않네요</a>, <a href=\"javascript:melon.play.playSong('19030101',32183386);\" title=\"Blueming 재생\">Blueming</a>, <a href=\"javascript:melon.play.playSong('19030101',32578498);\" title=\"에잇(Prod.&amp;Feat. SUGA of BTS) 재생\">에잇(Prod.&amp;Feat. SUGA of BTS)</a>, <a href=\"javascript:melon.play.playSong('19030101',32794652);\" title=\"취기를 빌려 (취향저격 그녀 X 산들) 재생\">취기를 빌려 (취향저격 그녀 X 산들)</a>, <a href=\"javascript:melon.play.playSong('19030101',33077590);\" title=\"VVS (Feat. JUSTHIS) (Prod. GroovyRoom) 재생\">VVS (Feat. JUSTHIS) (Prod. GroovyRoom)</a>, <a href=\"javascript:melon.play.playSong('19030101',33372788);\" title=\"어푸 (Ah puh) 재생\">어푸 (Ah puh)</a>, <a href=\"javascript:melon.play.playSong('19030101',32961718);\" title=\"Lovesick Girls 재생\">Lovesick Girls</a>, <a href=\"javascript:melon.play.playSong('19030101',33011180);\" title=\"나랑 같이 걸을래 (바른연애 길잡이 X 적재) 재생\">나랑 같이 걸을래 (바른연애 길잡이 X 적재)</a>, <a href=\"javascript:melon.play.playSong('19030101',33315511);\" title=\"멜로디 재생\">멜로디</a>, <a href=\"javascript:melon.play.playSong('19030101',32003395);\" title=\"흔들리는 꽃들 속에서 네 샴푸향이 느껴진거야 재생\">흔들리는 꽃들 속에서 네 샴푸향이 느껴진거야</a>, <a href=\"javascript:melon.play.playSong('19030101',33439096);\" title=\"너의 발걸음에 빛을 비춰줄게 (Prod. 조영수) 재생\">너의 발걸음에 빛을 비춰줄게 (Prod. 조영수)</a>, <a href=\"javascript:melon.play.playSong('19030101',33229299);\" title=\"이 밤을 빌려 말해요 (바른연애 길잡이 X 10CM) 재생\">이 밤을 빌려 말해요 (바른연애 길잡이 X 10CM)</a>, <a href=\"javascript:melon.play.playSong('19030101',33372784);\" title=\"봄 안녕 봄 재생\">봄 안녕 봄</a>, <a href=\"javascript:melon.play.playSong('19030101',31509376);\" title=\"12:45 (Stripped) 재생\">12:45 (Stripped)</a>, <a href=\"javascript:melon.play.playSong('19030101',33107649);\" title=\"그날에 나는 맘이 편했을까 재생\">그날에 나는 맘이 편했을까</a>, <a href=\"javascript:melon.play.playSong('19030101',32061975);\" title=\"어떻게 이별까지 사랑하겠어, 널 사랑하는 거지 재생\">어떻게 이별까지 사랑하겠어, 널 사랑하는 거지</a>, <a href=\"javascript:melon.play.playSong('19030101',33248758);\" title=\"추억은 만남보다 이별에 남아 재생\">추억은 만남보다 이별에 남아</a>, <a href=\"javascript:melon.play.playSong('19030101',3894276);\" title=\"오래된 노래 재생\">오래된 노래</a>, <a href=\"javascript:melon.play.playSong('19030101',32962258);\" title=\"Savage Love (Laxed - Siren Beat) (BTS Remix) 재생\">Savage Love (Laxed - Siren Beat) (BTS Remix)</a>, <a href=\"javascript:melon.play.playSong('19030101',33430095);\" title=\"기다릴게 재생\">기다릴게</a>, <a href=\"javascript:melon.play.playSong('19030101',33372787);\" title=\"아이와 나의 바다 재생\">아이와 나의 바다</a>, <a href=\"javascript:melon.play.playSong('19030101',32224272);\" title=\"METEOR 재생\">METEOR</a>, <a href=\"javascript:melon.play.playSong('19030101',32998018);\" title=\"힘든 건 사랑이 아니다 재생\">힘든 건 사랑이 아니다</a>, <a href=\"javascript:melon.play.playSong('19030101',32559782);\" title=\"Dolphin 재생\">Dolphin</a>, <a href=\"javascript:melon.play.playSong('19030101',31029291);\" title=\"2002 재생\">2002</a>, <a href=\"javascript:melon.play.playSong('19030101',33372782);\" title=\"Flu 재생\">Flu</a>, <a href=\"javascript:melon.play.playSong('19030101',30962526);\" title=\"모든 날, 모든 순간 (Every day, Every Moment) 재생\">모든 날, 모든 순간 (Every day, Every Moment)</a>, <a href=\"javascript:melon.play.playSong('19030101',32525311);\" title=\"사실 나는 (Feat.전건호) 재생\">사실 나는 (Feat.전건호)</a>, <a href=\"javascript:melon.play.playSong('19030101',33359725);\" title=\"사이렌 Remix (Feat. UNEDUCATED KID, Paul Blanco) 재생\">사이렌 Remix (Feat. UNEDUCATED KID, Paul Blanco)</a>, <a href=\"javascript:melon.play.playSong('19030101',32491274);\" title=\"아로하 재생\">아로하</a>, <a href=\"javascript:melon.play.playSong('19030101',30244931);\" title=\"봄날 재생\">봄날</a>, <a href=\"javascript:melon.play.playSong('19030101',32438894);\" title=\"어떻게 지내 (Prod. By VAN.C) 재생\">어떻게 지내 (Prod. By VAN.C)</a>, <a href=\"javascript:melon.play.playSong('19030101',33077234);\" title=\"Life Goes On 재생\">Life Goes On</a>, <a href=\"javascript:melon.play.playSong('19030101',32224166);\" title=\"너의 번호를 누르고 (Prod. 영화처럼) 재생\">너의 번호를 누르고 (Prod. 영화처럼)</a>, <a href=\"javascript:melon.play.playSong('19030101',31853557);\" title=\"오늘도 빛나는 너에게 (To You My Light) (Feat.이라온) 재생\">오늘도 빛나는 너에게 (To You My Light) (Feat.이라온)</a>, <a href=\"javascript:melon.play.playSong('19030101',31737197);\" title=\"작은 것들을 위한 시 (Boy With Luv) (Feat. Halsey) 재생\">작은 것들을 위한 시 (Boy With Luv) (Feat. Halsey)</a>, <a href=\"javascript:melon.play.playSong('19030101',32156286);\" title=\"늦은 밤 너의 집 앞 골목길에서 재생\">늦은 밤 너의 집 앞 골목길에서</a>, <a href=\"javascript:melon.play.playSong('19030101',32720013);\" title=\"How You Like That 재생\">How You Like That</a>, <a href=\"javascript:melon.play.playSong('19030101',33372785);\" title=\"돌림노래 (Feat. DEAN) 재생\">돌림노래 (Feat. DEAN)</a>, <a href=\"javascript:melon.play.playSong('19030101',711627);\" title=\"죄와벌 재생\">죄와벌</a>, <a href=\"javascript:melon.play.playSong('19030101',33260801);\" title=\"고백 (바른연애 길잡이 X 허각) 재생\">고백 (바른연애 길잡이 X 허각)</a>, <a href=\"javascript:melon.play.playSong('19030101',32055419);\" title=\"Memories 재생\">Memories</a>, <a href=\"javascript:melon.play.playSong('19030101',32378104);\" title=\"마음을 드려요 재생\">마음을 드려요</a>, <a href=\"javascript:melon.play.playSong('19030101',32871975);\" title=\"내 마음이 움찔했던 순간 (취향저격 그녀 X 규현) 재생\">내 마음이 움찔했던 순간 (취향저격 그녀 X 규현)</a>, <a href=\"javascript:melon.play.playSong('19030101',32559781);\" title=\"살짝 설렜어 (Nonstop) 재생\">살짝 설렜어 (Nonstop)</a>, <a href=\"javascript:melon.play.playSong('19030101',33295747);\" title=\"함께 했는데 이별은 나 혼자인 거야 재생\">함께 했는데 이별은 나 혼자인 거야</a>, <a href=\"javascript:melon.play.playSong('19030101',32508053);\" title=\"이제 나만 믿어요 재생\">이제 나만 믿어요</a>, <a href=\"javascript:melon.play.playSong('19030101',33347390);\" title=\"이렇게 좋아해 본 적이 없어요 재생\">이렇게 좋아해 본 적이 없어요</a>, <a href=\"javascript:melon.play.playSong('19030101',31979846);\" title=\"Dance Monkey 재생\">Dance Monkey</a>, <a href=\"javascript:melon.play.playSong('19030101',32143487);\" title=\"Love poem 재생\">Love poem</a>, <a href=\"javascript:melon.play.playSong('19030101',33346447);\" title=\"Gone 재생\">Gone</a>, <a href=\"javascript:melon.play.playSong('19030101',32853712);\" title=\"When We Disco (Duet with 선미) 재생\">When We Disco (Duet with 선미)</a>, <a href=\"javascript:melon.play.playSong('19030101',1615770);\" title=\"아리랑 재생\">아리랑</a>, <a href=\"javascript:melon.play.playSong('19030101',33338016);\" title=\"되풀이 재생\">되풀이</a>, <a href=\"javascript:melon.play.playSong('19030101',33397561);\" title=\"ASAP 재생\">ASAP</a>, <a href=\"javascript:melon.play.playSong('19030101',31388145);\" title=\"너를 만나 재생\">너를 만나</a>, <a href=\"javascript:melon.play.playSong('19030101',33372789);\" title=\"에필로그 재생\">에필로그</a>, <a href=\"javascript:melon.play.playSong('19030101',33104090);\" title=\"혼술하고 싶은 밤 재생\">혼술하고 싶은 밤</a>, <a href=\"javascript:melon.play.playSong('19030101',32345931);\" title=\"시작 재생\">시작</a>, <a href=\"javascript:melon.play.playSong('19030101',33115807);\" title=\"내일이 오면 (Feat. 기리보이, BIG Naughty (서동현)) 재생\">내일이 오면 (Feat. 기리보이, BIG Naughty (서동현))</a>, <a href=\"javascript:melon.play.playSong('19030101',33164083);\" title=\"우린 어쩌다 헤어진 걸까 재생\">우린 어쩌다 헤어진 걸까</a>, <a href=\"javascript:melon.play.playSong('19030101',32187544);\" title=\"우리 왜 헤어져야 해 재생\">우리 왜 헤어져야 해</a>, <a href=\"javascript:melon.play.playSong('19030101',31341518);\" title=\"Paris In The Rain 재생\">Paris In The Rain</a>, <a href=\"javascript:melon.play.playSong('19030101',32570501);\" title=\"서면역에서 재생\">서면역에서</a>, <a href=\"javascript:melon.play.playSong('19030101',32137576);\" title=\"Don't Start Now 재생\">Don't Start Now</a>, <a href=\"javascript:melon.play.playSong('19030101',32777869);\" title=\"거짓말이라도 해서 널 보고싶어 재생\">거짓말이라도 해서 널 보고싶어</a>, <a href=\"javascript:melon.play.playSong('19030101',31984204);\" title=\"안녕 재생\">안녕</a>, <a href=\"javascript:melon.play.playSong('19030101',30773554);\" title=\"Downtown Baby 재생\">Downtown Baby</a>, <a href=\"javascript:melon.play.playSong('19030101',33347594);\" title=\"그 한마디 (바른연애 길잡이 X 이하이) 재생\">그 한마디 (바른연애 길잡이 X 이하이)</a>, <a href=\"javascript:melon.play.playSong('19030101',33244575);\" title=\"I'm Not Cool 재생\">I'm Not Cool</a>, <a href=\"javascript:melon.play.playSong('19030101',33247490);\" title=\"술 한잔 해요 재생\">술 한잔 해요</a>, <a href=\"javascript:melon.play.playSong('19030101',32122539);\" title=\"Maniac 재생\">Maniac</a>, <a href=\"javascript:melon.play.playSong('19030101',33001672);\" title=\"딩가딩가 (Dingga) 재생\">딩가딩가 (Dingga)</a>, <a href=\"javascript:melon.play.playSong('19030101',33388275);\" title=\"안녕이란 (Two Letters) 재생\">안녕이란 (Two Letters)</a>, <a href=\"javascript:melon.play.playSong('19030101',32725013);\" title=\"마리아 (Maria) 재생\">마리아 (Maria)</a>, <a href=\"javascript:melon.play.playSong('19030101',32651098);\" title=\"사랑은 지날수록 더욱 선명하게 남아 재생\">사랑은 지날수록 더욱 선명하게 남아</a>, <a href=\"javascript:melon.play.playSong('19030101',33269643);\" title=\"서른 밤째 (바른연애 길잡이 X 윤하 (YOUNHA)) 재생\">서른 밤째 (바른연애 길잡이 X 윤하 (YOUNHA))</a>, <a href=\"javascript:melon.play.playSong('19030101',33305996);\" title=\"Don't Call Me 재생\">Don't Call Me</a>, <a href=\"javascript:melon.play.playSong('19030101',33372786);\" title=\"빈 컵 (Empty Cup) 재생\">빈 컵 (Empty Cup)</a>, <a href=\"javascript:melon.play.playSong('19030101',33120545);\" title=\"Panorama 재생\">Panorama</a>, <a href=\"javascript:melon.play.playSong('19030101',33265859);\" title=\"다시 만날까 봐 (Prod.V.O.S) 재생\">다시 만날까 봐 (Prod.V.O.S)</a>, <a href=\"javascript:melon.play.playSong('19030101',33353705);\" title=\"어떤X (What Type of X) 재생\">어떤X (What Type of X)</a>, <a href=\"javascript:melon.play.playSong('19030101',33309138);\" title=\"꼬리 (TAIL) 재생\">꼬리 (TAIL)</a>]\n"
     ]
    }
   ],
   "source": [
    "import requests\n",
    "from bs4 import BeautifulSoup\n",
    "import re\n",
    "\n",
    "url = 'https://www.melon.com/chart/index.htm'\n",
    "# 요청헤더 \n",
    "req_header = {\n",
    "    'user-agent':'Mozilla/5.0 (Windows NT 10.0; Win64; x64) AppleWebKit/537.36 (KHTML, like Gecko) Chrome/90.0.4430.93 Safari/537.36'\n",
    "}\n",
    "res = requests.get(url, headers=req_header)\n",
    "print(res.status_code)\n",
    "\n",
    "if res.ok:\n",
    "    html = res.text\n",
    "    soup = BeautifulSoup(html, 'html.parser')\n",
    "    # <div id=\"tb_list\"> \n",
    "    print(len(soup.select('div#tb_list'))) #1\n",
    "    # <div id=\"tb_list\">  하위의 tr 선택\n",
    "    print(len(soup.select('div#tb_list tr'))) #101\n",
    "    # <div id=\"tb_list\">  하위의 tr 하위의 <div class=\"wrap_song_info\">\n",
    "    print(len(soup.select('div#tb_list tr div.wrap_song_info'))) #200\n",
    "    # <div id=\"tb_list\">  하위의 tr 하위의 <div class=\"wrap_song_info\"> 하위의 <a href=\"playSong\">\n",
    "    print(len(soup.select(\"div#tb_list tr div.wrap_song_info a[href*='playSong']\"))) #100\n",
    "    \n",
    "    song_atag = soup.select(\"div#tb_list tr div.wrap_song_info a[href*='playSong']\")\n",
    "    # 100개의 song정보를 저장할 리스트 선언\n",
    "    song_list = []\n",
    "    "
   ]
  },
  {
   "cell_type": "markdown",
   "metadata": {},
   "source": []
  }
 ],
 "metadata": {
  "kernelspec": {
   "display_name": "Python 3",
   "language": "python",
   "name": "python3"
  },
  "language_info": {
   "codemirror_mode": {
    "name": "ipython",
    "version": 3
   },
   "file_extension": ".py",
   "mimetype": "text/x-python",
   "name": "python",
   "nbconvert_exporter": "python",
   "pygments_lexer": "ipython3",
   "version": "3.8.5"
  }
 },
 "nbformat": 4,
 "nbformat_minor": 4
}
