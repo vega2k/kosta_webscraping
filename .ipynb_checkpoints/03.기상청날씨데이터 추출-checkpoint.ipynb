{
 "cells": [
  {
   "cell_type": "markdown",
   "metadata": {},
   "source": [
    "### 기상청 날씨 데이터\n",
    "* BeautifulSoup의 find(), find_all() 함수을 사용해서 tag 선택하기\n",
    "* 파싱한 데이터를 List에 Dict에 저장하기"
   ]
  },
  {
   "cell_type": "code",
   "execution_count": 11,
   "metadata": {},
   "outputs": [
    {
     "name": "stdout",
     "output_type": "stream",
     "text": [
      "200\n",
      "<class 'bs4.element.Tag'> 기상청 육상 중기예보\n",
      "<class 'bs4.element.ResultSet'>\n",
      "<class 'bs4.element.Tag'> 기상청 육상 중기예보\n",
      "<class 'bs4.element.Tag'> 전국 육상 중기예보 - 2021년 04월 28일 (수)요일 06:00 발표\n",
      "<class 'bs4.element.Tag'> 전국 육상중기예보\n"
     ]
    }
   ],
   "source": [
    "import requests\n",
    "from bs4 import BeautifulSoup\n",
    "\n",
    "url = 'http://www.weather.go.kr/weather/forecast/mid-term-rss3.jsp'\n",
    "res = requests.get(url)\n",
    "print(res.status_code)\n",
    "html = res.text\n",
    "soup = BeautifulSoup(html, 'html.parser')\n",
    "\n",
    "# <title> 태그 선택\n",
    "print(type(soup.find('title')), soup.find('title').string)\n",
    "print(type(soup.find_all('title')))\n",
    "for title_tag in soup.find_all('title'):\n",
    "    print(type(title_tag), title_tag.string)"
   ]
  },
  {
   "cell_type": "code",
   "execution_count": 19,
   "metadata": {},
   "outputs": [
    {
     "name": "stdout",
     "output_type": "stream",
     "text": [
      "41\n",
      "서울ㆍ인천ㆍ경기도 서울\n",
      "A02 9 18\n",
      "A02 9 18\n",
      "A02 9 20\n",
      "A02 9 20\n",
      "A02 10 23\n",
      "A02 10 23\n",
      "A02 14 23\n",
      "A02 14 23\n",
      "A02 14 22\n",
      "A02 14 22\n",
      "A01 12 22\n",
      "A01 12 22\n",
      "A01 12 23\n"
     ]
    }
   ],
   "source": [
    "print(len(soup.find_all('location', attrs={\"wl_ver\":\"3\"})))\n",
    "location_first = soup.find('location', attrs={\"wl_ver\":\"3\"}) \n",
    "province = location_first.find('province').text\n",
    "city = location_first.find('city').text\n",
    "print(province, city)\n",
    "for data in location_first.find_all('data'):\n",
    "    mode = data.find('mode').text\n",
    "    tmef = data.find('tmef').text\n",
    "    wf = data.find('wf').text\n",
    "    tmn = data.find('tmn').text\n",
    "    tmx = data.find('tmx').text\n",
    "    print(mode, tmn, tmx)"
   ]
  },
  {
   "cell_type": "markdown",
   "metadata": {},
   "source": [
    "### 전국의 날씨정보를 추출\n",
    "* location tag을 dict {} 에 저장\n",
    "* 41개의 dict 을  list [] 에 저장\n",
    "* json file 로 저장하기"
   ]
  },
  {
   "cell_type": "code",
   "execution_count": null,
   "metadata": {},
   "outputs": [],
   "source": []
  }
 ],
 "metadata": {
  "kernelspec": {
   "display_name": "Python 3",
   "language": "python",
   "name": "python3"
  },
  "language_info": {
   "codemirror_mode": {
    "name": "ipython",
    "version": 3
   },
   "file_extension": ".py",
   "mimetype": "text/x-python",
   "name": "python",
   "nbconvert_exporter": "python",
   "pygments_lexer": "ipython3",
   "version": "3.8.5"
  }
 },
 "nbformat": 4,
 "nbformat_minor": 4
}
