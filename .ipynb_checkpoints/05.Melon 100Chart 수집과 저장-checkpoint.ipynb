{
 "cells": [
  {
   "cell_type": "markdown",
   "metadata": {},
   "source": [
    "### Melon 100 챠트 스크래핑\n",
    "1. 100곡의 노래의 제목과 ID 추출 (정규표현식)\n",
    "2. 노래의 ID로 상세페이지를 100번 요청해서 상세정보를 추출\n",
    "3. Json file에 저장\n",
    "4. json file을 DataFrame 객체로 생성해서 표데이터 만들기\n",
    "5. 표데이터를 DB에 저장하기"
   ]
  },
  {
   "cell_type": "code",
   "execution_count": 22,
   "metadata": {},
   "outputs": [
    {
     "name": "stdout",
     "output_type": "stream",
     "text": [
      "200\n",
      "1\n",
      "101\n",
      "200\n",
      "100\n",
      "100\n"
     ]
    },
    {
     "data": {
      "text/plain": [
       "[{'title': \"롤린 (Rollin')\",\n",
       "  'link': 'https://www.melon.com/song/detail.htm?songId=30287019'},\n",
       " {'title': '라일락',\n",
       "  'link': 'https://www.melon.com/song/detail.htm?songId=33372781'},\n",
       " {'title': 'Peaches (Feat. Daniel Caesar & Giveon)',\n",
       "  'link': 'https://www.melon.com/song/detail.htm?songId=33359317'},\n",
       " {'title': 'Celebrity',\n",
       "  'link': 'https://www.melon.com/song/detail.htm?songId=33239419'},\n",
       " {'title': '운전만해 (We Ride)',\n",
       "  'link': 'https://www.melon.com/song/detail.htm?songId=32860397'}]"
      ]
     },
     "execution_count": 22,
     "metadata": {},
     "output_type": "execute_result"
    }
   ],
   "source": [
    "import requests\n",
    "from bs4 import BeautifulSoup\n",
    "import re\n",
    "\n",
    "url = 'https://www.melon.com/chart/index.htm'\n",
    "# 요청헤더 \n",
    "req_header = {\n",
    "    'user-agent':'Mozilla/5.0 (Windows NT 10.0; Win64; x64) AppleWebKit/537.36 (KHTML, like Gecko) Chrome/90.0.4430.93 Safari/537.36'\n",
    "}\n",
    "res = requests.get(url, headers=req_header)\n",
    "print(res.status_code)\n",
    "\n",
    "if res.ok:\n",
    "    html = res.text\n",
    "    soup = BeautifulSoup(html, 'html.parser')\n",
    "    # <div id=\"tb_list\"> \n",
    "    print(len(soup.select('div#tb_list'))) #1\n",
    "    # <div id=\"tb_list\">  하위의 tr 선택\n",
    "    print(len(soup.select('div#tb_list tr'))) #101\n",
    "    # <div id=\"tb_list\">  하위의 tr 하위의 <div class=\"wrap_song_info\">\n",
    "    print(len(soup.select('div#tb_list tr div.wrap_song_info'))) #200\n",
    "    # <div id=\"tb_list\">  하위의 tr 하위의 <div class=\"wrap_song_info\"> 하위의 <a href=\"playSong\">\n",
    "    print(len(soup.select(\"div#tb_list tr div.wrap_song_info a[href*='playSong']\"))) #100\n",
    "    \n",
    "    song_atag = soup.select(\"div#tb_list tr div.wrap_song_info a[href*='playSong']\")\n",
    "    # 100개의 song정보를 저장할 리스트 선언\n",
    "    song_list = []\n",
    "    for song in song_atag:\n",
    "        # 1개의 song 정보를 저장한 딕셔너리 선언\n",
    "        song_dict = {}\n",
    "        title = song.text\n",
    "        href_value = song['href']\n",
    "        matched = re.search(r'(\\d+)\\);', href_value)\n",
    "        #print(matched.group(0), matched.group(1))\n",
    "        song_id = matched.group(1)\n",
    "        song_detail_link = f'https://www.melon.com/song/detail.htm?songId={song_id}'\n",
    "        song_dict['title'] = title\n",
    "        song_dict['link'] = song_detail_link\n",
    "        song_list.append(song_dict)\n",
    "\n",
    "print(len(song_list))\n",
    "song_list[0:5]"
   ]
  },
  {
   "cell_type": "markdown",
   "metadata": {},
   "source": []
  }
 ],
 "metadata": {
  "kernelspec": {
   "display_name": "Python 3",
   "language": "python",
   "name": "python3"
  },
  "language_info": {
   "codemirror_mode": {
    "name": "ipython",
    "version": 3
   },
   "file_extension": ".py",
   "mimetype": "text/x-python",
   "name": "python",
   "nbconvert_exporter": "python",
   "pygments_lexer": "ipython3",
   "version": "3.8.5"
  }
 },
 "nbformat": 4,
 "nbformat_minor": 4
}
